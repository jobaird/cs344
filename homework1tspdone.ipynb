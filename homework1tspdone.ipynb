{
 "cells": [
  {
   "cell_type": "markdown",
   "metadata": {},
   "source": [
    "#1.1"
   ]
  },
  {
   "cell_type": "markdown",
   "metadata": {
    "colab_type": "text",
    "id": "DT8TRl3z6gir"
   },
   "source": [
    "No, I do not believe this would be a Good way to model human cognitive process in AI. The reason I believe this to be a mostly useless model for AI is due to the fact that computers do not network and interact the same way that the human brain does. If we had a computer that could already make the kinds of connections that the human brain is capable of making, then we could possibly use this method of introspection to enhance human-like AI. However, even if we could, it would not necessarily be of help, since odds are the human brain as seen through introspection is different for everyone undergoing this exercise, and so people would not be able to come to an agreement on what would be a good model for AI."
   ]
  },
  {
   "cell_type": "code",
   "execution_count": 50,
   "metadata": {
    "colab": {},
    "colab_type": "code",
    "id": "4Nxh8sNA6muE"
   },
   "outputs": [],
   "source": [
    "from tools.aima.search import Problem, hill_climbing, simulated_annealing, \\\n",
    "    exp_schedule, genetic_search\n",
    "from random import randrange\n",
    "import math"
   ]
  },
  {
   "cell_type": "markdown",
   "metadata": {},
   "source": [
    "The state of the problem is a complete run of all cities. Distance is an added variable dictionary of paired city distance combinations. The actions are just a list of swappable cities in the order. Result(state, action) recieves the current state and an action to apply to the state to change it. Value returns a sum of the current paths distances."
   ]
  },
  {
   "cell_type": "code",
   "execution_count": 86,
   "metadata": {},
   "outputs": [],
   "source": [
    "class TSP(Problem):\n",
    "    \n",
    "    def __init__(self, initial, distance):\n",
    "        self.initial = initial\n",
    "        self.distance = distance\n",
    "    \n",
    "    def actions(self, state):\n",
    "        action_list = []\n",
    "        #state.remove(0)\n",
    "        #state.remove(0)\n",
    "        i=1\n",
    "        while i < len(state)-1:\n",
    "            x = i+1\n",
    "            while x < len(state)-1:\n",
    "                action_list.append([state[i],state[x]])\n",
    "                x = x+1\n",
    "            i = i+1\n",
    "            \n",
    "        return action_list\n",
    "    \n",
    "    def result(self, state, action):\n",
    "        a, b = state.index(action[0]), state.index(action[1])\n",
    "        state[b], state[a] = state[a], state[b]\n",
    "        return state\n",
    "        \n",
    "    \n",
    "    def value(self, state):\n",
    "        #gives distance of path back\n",
    "        dist = 0\n",
    "        for i in state:\n",
    "            if i < len(state):\n",
    "                if i+1 < len(state):\n",
    "                    if state[i] < state[i+1]:\n",
    "                        dist = dist + self.distance[(state[i],state[i+1])]\n",
    "                    if state[i] > state[i+1]:\n",
    "                        dist = dist + self.distance[(state[i+1],state[i])]\n",
    "        return dist"
   ]
  },
  {
   "cell_type": "code",
   "execution_count": 87,
   "metadata": {
    "scrolled": false
   },
   "outputs": [
    {
     "name": "stdout",
     "output_type": "stream",
     "text": [
      "Hill-Climbing solution    path: [0, 3, 2, 1, 0]\tvalue: 13.000000000000002\n"
     ]
    }
   ],
   "source": [
    "p = TSP([0,1,2,3,0], {(0,1): 1.5,(0,2): 2.6,(0,3): 3.4,(1,2): 1.2,(1,3): 0.8,(2,3): 3.5})\n",
    "\n",
    "hill_solution = hill_climbing(p)\n",
    "print('Hill-Climbing solution    path: ' + str(hill_solution)\n",
    "     + '\\tvalue: ' + str(p.value(hill_solution)))"
   ]
  },
  {
   "cell_type": "code",
   "execution_count": null,
   "metadata": {},
   "outputs": [],
   "source": []
  },
  {
   "cell_type": "code",
   "execution_count": null,
   "metadata": {},
   "outputs": [],
   "source": []
  },
  {
   "cell_type": "code",
   "execution_count": null,
   "metadata": {},
   "outputs": [],
   "source": []
  },
  {
   "cell_type": "code",
   "execution_count": null,
   "metadata": {},
   "outputs": [],
   "source": []
  },
  {
   "cell_type": "code",
   "execution_count": null,
   "metadata": {},
   "outputs": [],
   "source": []
  }
 ],
 "metadata": {
  "colab": {
   "name": "homework1.ipynb",
   "provenance": [],
   "version": "0.3.2"
  },
  "kernelspec": {
   "display_name": "Python 3",
   "language": "python",
   "name": "python3"
  },
  "language_info": {
   "codemirror_mode": {
    "name": "ipython",
    "version": 3
   },
   "file_extension": ".py",
   "mimetype": "text/x-python",
   "name": "python",
   "nbconvert_exporter": "python",
   "pygments_lexer": "ipython3",
   "version": "3.5.2"
  }
 },
 "nbformat": 4,
 "nbformat_minor": 1
}
