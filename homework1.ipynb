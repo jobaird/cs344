{
  "nbformat": 4,
  "nbformat_minor": 0,
  "metadata": {
    "colab": {
      "name": "homework1.ipynb",
      "version": "0.3.2",
      "provenance": []
    },
    "kernelspec": {
      "name": "python3",
      "display_name": "Python 3"
    }
  },
  "cells": [
    {
      "metadata": {
        "id": "DT8TRl3z6gir",
        "colab_type": "text"
      },
      "cell_type": "markdown",
      "source": [
        "No, I do not believe this would be a Good way to model human cognitive process in AI. The reason I believe this to be a mostly useless model for AI is due to the fact that computers do not network and interact the same way that the human brain does. If we had a computer that could already make the kinds of connections that the human brain is capable of making, then we could possibly use this method of introspection to enhance human-like AI. However, even if we could, it would not necessarily be of help, since odds are the human brain as seen through introspection is different for everyone undergoing this exercise, and so people would not be able to come to an agreement on what would be a good model for AI."
      ]
    },
    {
      "metadata": {
        "id": "4Nxh8sNA6muE",
        "colab_type": "code",
        "colab": {}
      },
      "cell_type": "code",
      "source": [
        ""
      ],
      "execution_count": 0,
      "outputs": []
    }
  ]
}