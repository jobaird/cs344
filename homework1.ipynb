{
 "cells": [
  {
   "cell_type": "markdown",
   "metadata": {
    "colab_type": "text",
    "id": "DT8TRl3z6gir"
   },
   "source": [
    "No, I do not believe this would be a Good way to model human cognitive process in AI. The reason I believe this to be a mostly useless model for AI is due to the fact that computers do not network and interact the same way that the human brain does. If we had a computer that could already make the kinds of connections that the human brain is capable of making, then we could possibly use this method of introspection to enhance human-like AI. However, even if we could, it would not necessarily be of help, since odds are the human brain as seen through introspection is different for everyone undergoing this exercise, and so people would not be able to come to an agreement on what would be a good model for AI."
   ]
  },
  {
   "cell_type": "code",
   "execution_count": 2,
   "metadata": {
    "colab": {},
    "colab_type": "code",
    "id": "4Nxh8sNA6muE"
   },
   "outputs": [],
   "source": [
    "from tools.aima.search import Problem, hill_climbing, simulated_annealing, \\\n",
    "    exp_schedule, genetic_search\n",
    "from random import randrange\n",
    "import math"
   ]
  },
  {
   "cell_type": "markdown",
   "metadata": {},
   "source": [
    "The state of the problem is a complete run of all cities. Distance is an added variable dictionary of paired city distance combinations. The actions are just a list of swappable cities in the order. Result(state, action) recieves the current state and an action to apply to the state to change it. Value returns a sum of the current paths distances."
   ]
  },
  {
   "cell_type": "code",
   "execution_count": null,
   "metadata": {},
   "outputs": [],
   "source": []
  },
  {
   "cell_type": "code",
   "execution_count": null,
   "metadata": {},
   "outputs": [],
   "source": []
  }
 ],
 "metadata": {
  "colab": {
   "name": "homework1.ipynb",
   "provenance": [],
   "version": "0.3.2"
  },
  "kernelspec": {
   "display_name": "Python 3",
   "language": "python",
   "name": "python3"
  },
  "language_info": {
   "codemirror_mode": {
    "name": "ipython",
    "version": 3
   },
   "file_extension": ".py",
   "mimetype": "text/x-python",
   "name": "python",
   "nbconvert_exporter": "python",
   "pygments_lexer": "ipython3",
   "version": "3.5.2"
  }
 },
 "nbformat": 4,
 "nbformat_minor": 1
}
