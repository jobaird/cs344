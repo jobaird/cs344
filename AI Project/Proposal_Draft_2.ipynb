{
 "cells": [
  {
   "cell_type": "markdown",
   "metadata": {},
   "source": [
    "# Vision"
   ]
  },
  {
   "attachments": {},
   "cell_type": "markdown",
   "metadata": {
    "collapsed": true
   },
   "source": [
    "My intention with this final project is to create a bot to take in stories, such as the ever popular tragedy of Darth Plagueis the Wise and have it return its own story as such. I was inspired by an older attempt at something similar except based on the Harry Potter books (shown here: https://botnik.org/content/harry-potter.html). As a result, I hope to achieve an output that is at least somewhat amusing, if only from the perspective of the culture surrounding Star Wars Prequel memes. I had a difficult time finding data sets of various sith legends, so have instead decided to take quotes from the Hitchhiker’s Guide to the Galaxy series for use instead (found here: https://en.wikiquote.org/wiki/The_Hitchhiker%27s_Guide_to_the_Galaxy)."
   ]
  },
  {
   "cell_type": "markdown",
   "metadata": {},
   "source": [
    "# Background"
   ]
  },
  {
   "cell_type": "markdown",
   "metadata": {},
   "source": [
    "I will be using Word2Vec in order to find relationships between various words. I will also be using Word2Vec in order to find word similarities, such as dirty versus filthy. I will primarily be taking sources for use of Word2Vec in these ways from these sources: https://medium.freecodecamp.org/how-to-get-started-with-word2vec-and-then-how-to-make-it-work-d0a2fca9dad3, https://www.geeksforgeeks.org/python-word-embedding-using-word2vec/, https://adventuresinmachinelearning.com/word2vec-tutorial-tensorflow/\n",
    "\n",
    "I will be comparing the relationships and similarities found by Word2Vec with a Keras LSTM model to achieve something at least somewhat like an actual sentence. I will then be comparing and contrasting the sentences output by the Keras model with those output by a much simpler N-gram model."
   ]
  },
  {
   "cell_type": "markdown",
   "metadata": {},
   "source": [
    "# Implication"
   ]
  },
  {
   "cell_type": "markdown",
   "metadata": {},
   "source": [
    "In terms of the possible implications of this technology, there could be many different applications and or consequences. One of the greatest applications of this sort of technology could perhaps be in AI sentence construction similar to Cortana, Alexa, or Siri. With proper word association and generation, these system could get to a point where they could dynamically generate sentences, and thus seem closer to human than they would with pre-defined responses.\n",
    "\n",
    "Another possible application of this would be to allow for these same programs to better build associations of what the human on the other end was saying. This would allow these “companion” AIs to become more personalized to their users, and thus make them much more usable than they may otherwise be.\n",
    "\n",
    "One problem that could, albeit unlikely, potentially arise would be for AI to become capable of generating it’s own artistic content such as plays, movies, or books. Some people would be scared of the AI replacing humanity, or the fact that people could become complacent and subject themselves to even more mass-produced awful art forms than critics already think they do. I do not believe this is a realistic concern however, as AI would need something a bit more than simple word associations in order to create real art of this kind."
   ]
  },
  {
   "cell_type": "code",
   "execution_count": null,
   "metadata": {},
   "outputs": [],
   "source": []
  }
 ],
 "metadata": {
  "kernelspec": {
   "display_name": "Python 3",
   "language": "python",
   "name": "python3"
  },
  "language_info": {
   "codemirror_mode": {
    "name": "ipython",
    "version": 3
   },
   "file_extension": ".py",
   "mimetype": "text/x-python",
   "name": "python",
   "nbconvert_exporter": "python",
   "pygments_lexer": "ipython3",
   "version": "3.6.4"
  }
 },
 "nbformat": 4,
 "nbformat_minor": 1
}
